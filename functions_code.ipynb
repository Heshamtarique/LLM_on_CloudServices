{
 "cells": [
  {
   "cell_type": "code",
   "execution_count": 95,
   "metadata": {},
   "outputs": [
    {
     "name": "stdout",
     "output_type": "stream",
     "text": [
      "123\n",
      "hesham\n"
     ]
    }
   ],
   "source": [
    "########## warm up  ##########\n",
    "\n",
    "def try_1(x):\n",
    "    return x\n",
    "print(try_1(123))\n",
    "\n",
    "print(try_1(\"hesham\"))"
   ]
  },
  {
   "cell_type": "markdown",
   "metadata": {},
   "source": [
    "1.\tWrite a function that takes a string and an integer n, and returns a new string with the first n characters removed.\n",
    "\n"
   ]
  },
  {
   "cell_type": "code",
   "execution_count": 101,
   "metadata": {},
   "outputs": [],
   "source": [
    "def char_removal():\n",
    "    \n",
    "    str_sample = str(input(\"enter the string: \"))\n",
    "    print(\"====\")\n",
    "\n",
    "    char_to_remove = int(input(\"enter # of letters to remove: \"))\n",
    "    #temp_data = \n",
    "    return str_sample[char_to_remove:]\n",
    "\n",
    "\n"
   ]
  },
  {
   "cell_type": "code",
   "execution_count": 102,
   "metadata": {},
   "outputs": [
    {
     "name": "stdout",
     "output_type": "stream",
     "text": [
      "enter the string: heshamTarique\n",
      "====\n",
      "enter # of letters to remove: 6\n"
     ]
    },
    {
     "data": {
      "text/plain": [
       "'Tarique'"
      ]
     },
     "execution_count": 102,
     "metadata": {},
     "output_type": "execute_result"
    }
   ],
   "source": [
    "try_1 = char_removal()\n",
    "try_1"
   ]
  },
  {
   "cell_type": "code",
   "execution_count": null,
   "metadata": {},
   "outputs": [],
   "source": []
  },
  {
   "cell_type": "code",
   "execution_count": null,
   "metadata": {},
   "outputs": [],
   "source": []
  },
  {
   "cell_type": "code",
   "execution_count": null,
   "metadata": {},
   "outputs": [],
   "source": []
  },
  {
   "cell_type": "code",
   "execution_count": null,
   "metadata": {},
   "outputs": [],
   "source": []
  },
  {
   "cell_type": "code",
   "execution_count": null,
   "metadata": {},
   "outputs": [],
   "source": []
  },
  {
   "cell_type": "markdown",
   "metadata": {},
   "source": [
    "2.\tWrite a function that takes an array of integers and an integer k, and returns true if k is present in the array and false otherwise."
   ]
  },
  {
   "cell_type": "code",
   "execution_count": 74,
   "metadata": {},
   "outputs": [],
   "source": [
    "# taking the input from user - how many number and enter the number\n",
    "\n",
    "def num_present_or_not():\n",
    "    my_list=[]\n",
    "    nums = int(input(\"enter the number of elements: \"))\n",
    "\n",
    "    for num in range(0,nums):\n",
    "        elementss = int(input(\"now enter the numbers: \"))\n",
    "        my_list.append(elementss)\n",
    "        #print(x)\n",
    "        check = int(input(\"enter the number for check\"))\n",
    "        if check in my_list:\n",
    "            print(\"true\")\n",
    "        else:\n",
    "            print(\"false\")\n",
    "            \n",
    "    "
   ]
  },
  {
   "cell_type": "code",
   "execution_count": 75,
   "metadata": {},
   "outputs": [
    {
     "name": "stdout",
     "output_type": "stream",
     "text": [
      "enter the number of elements: 3\n",
      "now enter the numbers: 1\n",
      "enter the number for check3\n",
      "false\n",
      "now enter the numbers: 123\n",
      "enter the number for check1\n",
      "true\n",
      "now enter the numbers: 456\n",
      "enter the number for check1\n",
      "true\n"
     ]
    }
   ],
   "source": [
    "num_present_or_not()"
   ]
  },
  {
   "cell_type": "code",
   "execution_count": null,
   "metadata": {},
   "outputs": [],
   "source": [
    "                                        ####### TRY  #######\n",
    "\n",
    "def array_present():\n",
    "    \n",
    "    x = int(input(\"enter the number\"))\n",
    "    y = int(input(\"enter the number you wanna check\"))\n",
    "    \n",
    "    for i in range(x):\n",
    "        if i in y:\n",
    "            \n",
    "            return True\n",
    "        else: \n",
    "            return False\n",
    "        \n",
    "        \n",
    "        \n",
    "array_present()"
   ]
  },
  {
   "cell_type": "markdown",
   "metadata": {},
   "source": [
    "3.\tWrite a function that takes a string and returns a new string with all of the consonants removed.\n"
   ]
  },
  {
   "cell_type": "code",
   "execution_count": 8,
   "metadata": {},
   "outputs": [],
   "source": [
    "import re\n",
    "def constant_removal():\n",
    "    your_input = str(input())\n",
    "    processes_input = re.sub( \"[^a-zA-Z]\" , \"!\", your_input)\n",
    "    return processes_input\n",
    "\n",
    "# I can remove 123 - by harcoding it.... I need to figure out  [DONE] "
   ]
  },
  {
   "cell_type": "code",
   "execution_count": 9,
   "metadata": {},
   "outputs": [
    {
     "name": "stdout",
     "output_type": "stream",
     "text": [
      "hesham1Tarique\n"
     ]
    },
    {
     "data": {
      "text/plain": [
       "'hesham!Tarique'"
      ]
     },
     "execution_count": 9,
     "metadata": {},
     "output_type": "execute_result"
    }
   ],
   "source": [
    "constant_removal()"
   ]
  },
  {
   "cell_type": "code",
   "execution_count": null,
   "metadata": {},
   "outputs": [],
   "source": []
  },
  {
   "cell_type": "markdown",
   "metadata": {},
   "source": [
    "4.\tWrite a function that takes an array of integers and returns the second-largest number in the array.\n"
   ]
  },
  {
   "cell_type": "code",
   "execution_count": null,
   "metadata": {},
   "outputs": [],
   "source": []
  },
  {
   "cell_type": "code",
   "execution_count": 16,
   "metadata": {},
   "outputs": [],
   "source": [
    "def second_largest():\n",
    "    a = [int(x) for x in input()]\n",
    "    print(\"values in a: \",a)\n",
    "    for item in a:\n",
    "        print(item)\n",
    "    \n",
    "# how to check which is greater    "
   ]
  },
  {
   "cell_type": "code",
   "execution_count": 18,
   "metadata": {},
   "outputs": [
    {
     "name": "stdout",
     "output_type": "stream",
     "text": [
      "12345\n",
      "values in a :  [1, 2, 3, 4, 5]\n",
      "1\n",
      "2\n",
      "3\n",
      "4\n",
      "5\n"
     ]
    }
   ],
   "source": [
    "try_2 = second_largest()\n",
    "try_2"
   ]
  },
  {
   "cell_type": "markdown",
   "metadata": {},
   "source": [
    "5.\tWrite a function that takes an array of strings and an integer n, and returns a new array containing only the strings that have length greater than n.\n"
   ]
  },
  {
   "cell_type": "code",
   "execution_count": 57,
   "metadata": {},
   "outputs": [],
   "source": [
    "#str_1, str_2, str_3 = [str(x) for x in str(input(\"enter the strings\")).split()]\n",
    "def string_retuning():\n",
    "    temp_1=[]\n",
    "    str_1 = list(map(str, str(input(\"enter the words: \")).split()))\n",
    "    print(str_1)\n",
    "\n",
    "    num_for_check = int(input(\"enter the number: \"))\n",
    "\n",
    "    for item in range(len(str_1)):\n",
    "        print(\"item of str_1\",item)\n",
    "        if len(str_1)>num_for_check:\n",
    "            temp_1 = list(str_1)\n",
    "            print(\"the word is: \", temp_1)\n",
    "        else:\n",
    "            print(\"word is shorter\")\n",
    "    return temp_1\n"
   ]
  },
  {
   "cell_type": "code",
   "execution_count": 58,
   "metadata": {},
   "outputs": [
    {
     "name": "stdout",
     "output_type": "stream",
     "text": [
      "enter the words: sdfsd\n",
      "['sdfsd']\n",
      "enter the number: 1\n",
      "item of str_1 0\n",
      "word is shorter\n"
     ]
    },
    {
     "data": {
      "text/plain": [
       "[]"
      ]
     },
     "execution_count": 58,
     "metadata": {},
     "output_type": "execute_result"
    }
   ],
   "source": [
    "string_retuning()"
   ]
  },
  {
   "cell_type": "code",
   "execution_count": null,
   "metadata": {},
   "outputs": [],
   "source": []
  },
  {
   "cell_type": "markdown",
   "metadata": {},
   "source": [
    "6.\tWrite a function that takes a string and returns a new string with all of the vowels replaced with asterisks."
   ]
  },
  {
   "cell_type": "code",
   "execution_count": 81,
   "metadata": {},
   "outputs": [],
   "source": [
    "def replacing_vovel():\n",
    "    \n",
    "    str_user = str(input(\"enter the string: \"))\n",
    "    temp_2 = re.sub(\"[aeiou]\", \"*\", str_user)\n",
    "    return temp_2"
   ]
  },
  {
   "cell_type": "code",
   "execution_count": 82,
   "metadata": {},
   "outputs": [
    {
     "name": "stdout",
     "output_type": "stream",
     "text": [
      "enter the string: hesham\n"
     ]
    },
    {
     "data": {
      "text/plain": [
       "'h*sh*m'"
      ]
     },
     "execution_count": 82,
     "metadata": {},
     "output_type": "execute_result"
    }
   ],
   "source": [
    "replacing_vovel()"
   ]
  },
  {
   "cell_type": "code",
   "execution_count": null,
   "metadata": {},
   "outputs": [],
   "source": []
  },
  {
   "cell_type": "markdown",
   "metadata": {},
   "source": [
    "7.\tWrite a function that takes an array of integers and returns the median value (i.e., the middle element if the array has an odd number of elements, or the average of the two middle elements if the array has an even number of elements).\n"
   ]
  },
  {
   "cell_type": "code",
   "execution_count": 14,
   "metadata": {},
   "outputs": [],
   "source": [
    "def median_calculator():\n",
    "    \n",
    "    array_for_median = [int(x) for x in input().split()]\n",
    "    print(array_for_median)\n",
    "\n",
    "    if len(array_for_median)%2!=0:\n",
    "        min_num = array_for_median.index(array_for_median/2)\n",
    "        #output = int(min_num)\n",
    "        print(\"median in case odd number is: \", min_num)\n",
    "        \n",
    "    return min_num\n",
    "    "
   ]
  },
  {
   "cell_type": "code",
   "execution_count": 15,
   "metadata": {
    "collapsed": true
   },
   "outputs": [
    {
     "name": "stdout",
     "output_type": "stream",
     "text": [
      "1 2 3 4\n",
      "[1, 2, 3, 4]\n"
     ]
    },
    {
     "ename": "UnboundLocalError",
     "evalue": "local variable 'min_num' referenced before assignment",
     "output_type": "error",
     "traceback": [
      "\u001b[0;31m---------------------------------------------------------------------------\u001b[0m",
      "\u001b[0;31mUnboundLocalError\u001b[0m                         Traceback (most recent call last)",
      "\u001b[0;32m<ipython-input-15-bfe47078bca2>\u001b[0m in \u001b[0;36m<module>\u001b[0;34m\u001b[0m\n\u001b[0;32m----> 1\u001b[0;31m \u001b[0mmedian_calculator\u001b[0m\u001b[0;34m(\u001b[0m\u001b[0;34m)\u001b[0m\u001b[0;34m\u001b[0m\u001b[0;34m\u001b[0m\u001b[0m\n\u001b[0m",
      "\u001b[0;32m<ipython-input-14-c5499242e379>\u001b[0m in \u001b[0;36mmedian_calculator\u001b[0;34m()\u001b[0m\n\u001b[1;32m      9\u001b[0m         \u001b[0mprint\u001b[0m\u001b[0;34m(\u001b[0m\u001b[0;34m\"median in case odd number is: \"\u001b[0m\u001b[0;34m,\u001b[0m \u001b[0mmin_num\u001b[0m\u001b[0;34m)\u001b[0m\u001b[0;34m\u001b[0m\u001b[0;34m\u001b[0m\u001b[0m\n\u001b[1;32m     10\u001b[0m \u001b[0;34m\u001b[0m\u001b[0m\n\u001b[0;32m---> 11\u001b[0;31m     \u001b[0;32mreturn\u001b[0m \u001b[0mmin_num\u001b[0m\u001b[0;34m\u001b[0m\u001b[0;34m\u001b[0m\u001b[0m\n\u001b[0m\u001b[1;32m     12\u001b[0m \u001b[0;34m\u001b[0m\u001b[0m\n",
      "\u001b[0;31mUnboundLocalError\u001b[0m: local variable 'min_num' referenced before assignment"
     ]
    }
   ],
   "source": [
    "median_calculator()"
   ]
  },
  {
   "cell_type": "code",
   "execution_count": null,
   "metadata": {},
   "outputs": [],
   "source": []
  },
  {
   "cell_type": "markdown",
   "metadata": {},
   "source": [
    "8.\tWrite a function that takes an array of strings and returns the shortest string in the array.\n"
   ]
  },
  {
   "cell_type": "code",
   "execution_count": 32,
   "metadata": {},
   "outputs": [],
   "source": [
    "def longest_string():\n",
    "    \n",
    "    input_user = [str(x) for x in str(input()).split()]\n",
    "    print(input_user)\n",
    "    print(type(input_user))\n",
    "\n",
    "    longest_string = \"\"\n",
    "    for i in input_user:\n",
    "    #     print(\"value of i: \",i)\n",
    "    #     print(\"type of i: \",type(i))\n",
    "    #     print(len(i))\n",
    "        if len(i)>len(longest_string):\n",
    "            longest_string=i\n",
    "\n",
    "        else:\n",
    "            i=i\n",
    "\n",
    "    return longest_string\n",
    "        "
   ]
  },
  {
   "cell_type": "code",
   "execution_count": 33,
   "metadata": {},
   "outputs": [
    {
     "name": "stdout",
     "output_type": "stream",
     "text": [
      "hesham les tes mes\n",
      "['hesham', 'les', 'tes', 'mes']\n",
      "<class 'list'>\n"
     ]
    },
    {
     "data": {
      "text/plain": [
       "'hesham'"
      ]
     },
     "execution_count": 33,
     "metadata": {},
     "output_type": "execute_result"
    }
   ],
   "source": [
    "longest_string()"
   ]
  },
  {
   "cell_type": "code",
   "execution_count": null,
   "metadata": {},
   "outputs": [],
   "source": []
  },
  {
   "cell_type": "markdown",
   "metadata": {},
   "source": [
    "9.\tWrite a function that takes an array of integers and an integer k, and returns true if k is the smallest number in the array and false otherwise.\n"
   ]
  },
  {
   "cell_type": "code",
   "execution_count": 66,
   "metadata": {},
   "outputs": [],
   "source": [
    "def lowest_number():\n",
    "\n",
    "    int_array = [int(x) for x in input()]   \n",
    "    print (int_array)\n",
    "\n",
    "    user_digit = int(input(\"enter the digit\"))\n",
    "\n",
    "    for item in int_array:\n",
    "        if user_digit>item:\n",
    "            \n",
    "            print(\"entered number is greater\")\n",
    "        else:\n",
    "            print(\"entered number is lesser than the element in the list\")\n",
    "        "
   ]
  },
  {
   "cell_type": "code",
   "execution_count": 67,
   "metadata": {},
   "outputs": [
    {
     "name": "stdout",
     "output_type": "stream",
     "text": [
      "1234567\n",
      "[1, 2, 3, 4, 5, 6, 7]\n",
      "enter the digit4\n",
      "entered number is greater\n",
      "entered number is greater\n",
      "entered number is greater\n",
      "entered number is lesser than the element in the list\n",
      "entered number is lesser than the element in the list\n",
      "entered number is lesser than the element in the list\n",
      "entered number is lesser than the element in the list\n"
     ]
    }
   ],
   "source": [
    "lowest_number()"
   ]
  },
  {
   "cell_type": "markdown",
   "metadata": {},
   "source": [
    "10.\tWrite a function that takes an array of integers and returns the sum of the elements in the array.\n"
   ]
  },
  {
   "cell_type": "code",
   "execution_count": 79,
   "metadata": {},
   "outputs": [],
   "source": [
    "def sum_of_numbs():\n",
    "    \n",
    "    item_user = [int(x) for x in input()]\n",
    "    print(\"user entred numbs: \",item_user)\n",
    "    \n",
    "    total = 0\n",
    "    for item in item_user:\n",
    "        total = total + item\n",
    "    return (\"summation of the elements in the list:{}\".format(total))\n",
    "    \n",
    "\n"
   ]
  },
  {
   "cell_type": "code",
   "execution_count": 80,
   "metadata": {},
   "outputs": [
    {
     "name": "stdout",
     "output_type": "stream",
     "text": [
      "123456\n",
      "user entred numbs:  [1, 2, 3, 4, 5, 6]\n"
     ]
    },
    {
     "data": {
      "text/plain": [
       "'summation of the elements in the list:21'"
      ]
     },
     "execution_count": 80,
     "metadata": {},
     "output_type": "execute_result"
    }
   ],
   "source": [
    "sum_of_numbs()"
   ]
  },
  {
   "cell_type": "code",
   "execution_count": null,
   "metadata": {},
   "outputs": [],
   "source": []
  },
  {
   "cell_type": "markdown",
   "metadata": {},
   "source": [
    "11.\tWrite a function that takes an array of strings and returns the longest string in the array.\n"
   ]
  },
  {
   "cell_type": "code",
   "execution_count": 103,
   "metadata": {},
   "outputs": [],
   "source": [
    "def longest_string_function():\n",
    "    \n",
    "    input_string = [str(x) for x in str(input()).split()] \n",
    "    print(input_string)\n",
    "\n",
    "    final_word= []\n",
    "    for item in input_string:\n",
    "        #print(item)\n",
    "        if len(item)>len(final_word):\n",
    "            #print(\"=====\")\n",
    "            final_word=item\n",
    "        else:\n",
    "            print(\"this is smaller string: {} \".format(item))\n",
    "    print(\"longest string from the input is: \",final_word)\n",
    "    \n",
    "    \n",
    "# WHY 1st WORD IS NOT GETTING    \"this is smaller string:  \" ????????????????"
   ]
  },
  {
   "cell_type": "code",
   "execution_count": 104,
   "metadata": {},
   "outputs": [
    {
     "name": "stdout",
     "output_type": "stream",
     "text": [
      "he hesham hes\n",
      "['he', 'hesham', 'hes']\n",
      "this is smaller string: hes \n",
      "longest string from the input is:  hesham\n"
     ]
    }
   ],
   "source": [
    "longest_string_function()"
   ]
  },
  {
   "cell_type": "code",
   "execution_count": null,
   "metadata": {},
   "outputs": [],
   "source": []
  },
  {
   "cell_type": "markdown",
   "metadata": {},
   "source": [
    "12th que is duplicate\n",
    "13.\tWrite a function that takes a string and returns true if it is a palindrome (i.e., reads the same forwards and backwards), and false otherwise.\n"
   ]
  },
  {
   "cell_type": "code",
   "execution_count": 112,
   "metadata": {},
   "outputs": [],
   "source": [
    "def palindrome_checker():\n",
    "    \n",
    "    checker = [str(x) for x in str(input()).split()]\n",
    "    print(checker)\n",
    "\n",
    "    for item in checker:\n",
    "        if item == item[::-1]:            # once see youtube video for this logic\n",
    "            print(\"palindrome\")\n",
    "        else:\n",
    "            print(\"not palindrome\")\n",
    "            "
   ]
  },
  {
   "cell_type": "code",
   "execution_count": 113,
   "metadata": {},
   "outputs": [
    {
     "name": "stdout",
     "output_type": "stream",
     "text": [
      "heh\n",
      "['heh']\n",
      "palindrome\n"
     ]
    }
   ],
   "source": [
    "palindrome_checker()"
   ]
  },
  {
   "cell_type": "code",
   "execution_count": 118,
   "metadata": {},
   "outputs": [
    {
     "name": "stdout",
     "output_type": "stream",
     "text": [
      "yes\n"
     ]
    }
   ],
   "source": [
    "                    ## another approach \"taken it from geeks for geeks \"\n",
    "def Ispalin(s):\n",
    "    return s==s[::-1]\n",
    "\n",
    "\n",
    "s= \"heh\"\n",
    "answer=Ispalin(s)\n",
    "\n",
    "\n",
    "if answer:\n",
    "    print(\"yes\")\n",
    "else:\n",
    "    print(\"no\")"
   ]
  },
  {
   "cell_type": "code",
   "execution_count": 53,
   "metadata": {},
   "outputs": [],
   "source": []
  },
  {
   "cell_type": "markdown",
   "metadata": {},
   "source": [
    "## to do\n",
    "14.\tWrite a function that takes an integer n and returns the nth number in the Fibonacci sequence.\n",
    "\n",
    "\n",
    "df = [1,2,3,5,8]--->\n",
    " df2 = 3--->\n",
    " then output should be 8\n",
    " \n"
   ]
  },
  {
   "cell_type": "code",
   "execution_count": null,
   "metadata": {},
   "outputs": [],
   "source": []
  },
  {
   "cell_type": "markdown",
   "metadata": {},
   "source": [
    "19.\tWrite a function that takes an array of strings and an integer n, and returns a new array containing only the strings that have length greater than n.\n"
   ]
  },
  {
   "cell_type": "code",
   "execution_count": 150,
   "metadata": {},
   "outputs": [],
   "source": [
    "def len_chek():\n",
    "    \n",
    "    checker1 = [str(x) for x in str(input()).split()]\n",
    "    print(checker1)\n",
    "    plz1=int(input(\"enter digit: \"))\n",
    "\n",
    "    \n",
    "    for item in checker1:\n",
    "        #print(item)\n",
    "        if len(item)>plz1:\n",
    "            output=[]\n",
    "            output.append(item)\n",
    "            #temp_2 = item\n",
    "            #print(\"length greater:  \",temp_2)\n",
    "        else:\n",
    "            print(\"num is shorter\", item)\n",
    "    return output\n"
   ]
  },
  {
   "cell_type": "code",
   "execution_count": 151,
   "metadata": {},
   "outputs": [
    {
     "name": "stdout",
     "output_type": "stream",
     "text": [
      "Hesham Tarique hes\n",
      "['Hesham', 'Tarique', 'hes']\n",
      "enter digit: 3\n",
      "num is shorter hes\n"
     ]
    },
    {
     "data": {
      "text/plain": [
       "['Tarique']"
      ]
     },
     "execution_count": 151,
     "metadata": {},
     "output_type": "execute_result"
    }
   ],
   "source": [
    "len_chek()\n",
    "\n",
    "#### storing only one biggest but there is 2 bigger number "
   ]
  },
  {
   "cell_type": "code",
   "execution_count": null,
   "metadata": {},
   "outputs": [],
   "source": []
  },
  {
   "cell_type": "markdown",
   "metadata": {},
   "source": [
    "\n",
    "24.\tWrite a function that takes an array of integers and returns the index of the first occurrence of the number 7.\n"
   ]
  },
  {
   "cell_type": "code",
   "execution_count": 42,
   "metadata": {},
   "outputs": [],
   "source": [
    "def index_return():\n",
    "    checker_3 = [int(x) for x in input()]\n",
    "    checker_3\n",
    "    dfdf = 7\n",
    "    for item in checker_3:\n",
    "        if item==dfdf:\n",
    "            print(\"index of match: \", checker_3.index(item))\n",
    "        else:\n",
    "            print(\"number not found\")\n",
    "    "
   ]
  },
  {
   "cell_type": "code",
   "execution_count": 44,
   "metadata": {},
   "outputs": [
    {
     "name": "stdout",
     "output_type": "stream",
     "text": [
      "1712\n",
      "number not found\n",
      "index of match:  1\n",
      "number not found\n",
      "number not found\n"
     ]
    }
   ],
   "source": [
    "index_return()"
   ]
  },
  {
   "cell_type": "code",
   "execution_count": null,
   "metadata": {},
   "outputs": [],
   "source": []
  },
  {
   "cell_type": "code",
   "execution_count": null,
   "metadata": {},
   "outputs": [],
   "source": []
  },
  {
   "cell_type": "code",
   "execution_count": null,
   "metadata": {},
   "outputs": [],
   "source": []
  },
  {
   "cell_type": "code",
   "execution_count": null,
   "metadata": {},
   "outputs": [],
   "source": []
  },
  {
   "cell_type": "code",
   "execution_count": null,
   "metadata": {},
   "outputs": [],
   "source": []
  },
  {
   "cell_type": "code",
   "execution_count": null,
   "metadata": {},
   "outputs": [],
   "source": []
  },
  {
   "cell_type": "code",
   "execution_count": null,
   "metadata": {},
   "outputs": [],
   "source": []
  },
  {
   "cell_type": "markdown",
   "metadata": {},
   "source": [
    "27.\tWrite a function that takes an array of integers and an integer k, and returns the index of the first occurrence of k in the array, or -1 if k is not present in the array.\n"
   ]
  },
  {
   "cell_type": "code",
   "execution_count": 20,
   "metadata": {},
   "outputs": [],
   "source": [
    "def index_of_match():\n",
    "    \n",
    "    che = [int(x) for x in input()]\n",
    "    print(che)\n",
    "\n",
    "    norm = int(input(\"enter the number: \"))\n",
    "\n",
    "    for i in che:\n",
    "        if i==norm:\n",
    "            val = che.index(i)\n",
    "            print( \"index of the matched element is: \", val)\n",
    "        else:\n",
    "            print( \"-1\")"
   ]
  },
  {
   "cell_type": "code",
   "execution_count": 21,
   "metadata": {},
   "outputs": [
    {
     "name": "stdout",
     "output_type": "stream",
     "text": [
      "12345\n",
      "[1, 2, 3, 4, 5]\n",
      "enter the number4\n",
      "-1\n",
      "-1\n",
      "-1\n",
      "index of the matched element is:  3\n",
      "-1\n"
     ]
    }
   ],
   "source": [
    "index_of_match()"
   ]
  },
  {
   "cell_type": "code",
   "execution_count": null,
   "metadata": {},
   "outputs": [],
   "source": []
  },
  {
   "cell_type": "markdown",
   "metadata": {},
   "source": [
    "28.\tWrite a function that takes an array of integers and returns an array containing only the even elements of the original array.\n"
   ]
  },
  {
   "cell_type": "code",
   "execution_count": 30,
   "metadata": {},
   "outputs": [],
   "source": [
    "def even_fetch():\n",
    "    \n",
    "    che_1 = [int(x) for x in input()]\n",
    "    che_1\n",
    "    final_che = []\n",
    "    for item in che_1:\n",
    "        if item%2==0:\n",
    "            final_che.append(item)\n",
    "\n",
    "        else: \n",
    "            pass\n",
    "    return final_che\n",
    "    "
   ]
  },
  {
   "cell_type": "code",
   "execution_count": 31,
   "metadata": {},
   "outputs": [
    {
     "name": "stdout",
     "output_type": "stream",
     "text": [
      "12345\n"
     ]
    },
    {
     "data": {
      "text/plain": [
       "[2, 4]"
      ]
     },
     "execution_count": 31,
     "metadata": {},
     "output_type": "execute_result"
    }
   ],
   "source": [
    "even_fetch()"
   ]
  },
  {
   "cell_type": "markdown",
   "metadata": {},
   "source": [
    "30.\tWrite a function that takes an array of integers and returns an array containing only the odd elements of the original array.\n"
   ]
  },
  {
   "cell_type": "code",
   "execution_count": 34,
   "metadata": {},
   "outputs": [],
   "source": [
    "def odd_fetch():\n",
    "    che_2 = [int(x) for x in input()]\n",
    "    odd_list = []\n",
    "    \n",
    "    for item in che_2:\n",
    "        if item%2!=0:\n",
    "            odd_list.append(item)\n",
    "        else:\n",
    "            pass\n",
    "    return odd_list"
   ]
  },
  {
   "cell_type": "code",
   "execution_count": 35,
   "metadata": {},
   "outputs": [
    {
     "name": "stdout",
     "output_type": "stream",
     "text": [
      "12345\n"
     ]
    },
    {
     "data": {
      "text/plain": [
       "[1, 3, 5]"
      ]
     },
     "execution_count": 35,
     "metadata": {},
     "output_type": "execute_result"
    }
   ],
   "source": [
    "odd_fetch()"
   ]
  },
  {
   "cell_type": "markdown",
   "metadata": {},
   "source": [
    "## to do\n",
    "31.\tWrite a function that takes an array of integers and returns true if the array is sorted in ascending order and false otherwise.\n"
   ]
  },
  {
   "cell_type": "code",
   "execution_count": null,
   "metadata": {},
   "outputs": [],
   "source": [
    "def sorting_array():\n",
    "    cheker_4 = [int(x) for x in input()]\n",
    "    cheker_4\n",
    "    \n",
    "    \n",
    "    "
   ]
  },
  {
   "cell_type": "code",
   "execution_count": null,
   "metadata": {},
   "outputs": [],
   "source": []
  },
  {
   "cell_type": "markdown",
   "metadata": {},
   "source": [
    "34.\tWrite a function that takes an array of integers and returns the largest number in the array.\n"
   ]
  },
  {
   "cell_type": "code",
   "execution_count": 62,
   "metadata": {},
   "outputs": [],
   "source": [
    "def largest_num_array():\n",
    "    checker_5 = [int(x) for x in input()]\n",
    "    checker_5\n",
    "    \n",
    "    temp_store= 0\n",
    "    for item in checker_5:\n",
    "        if item > temp_store:\n",
    "            temp_store=item\n",
    "        else:\n",
    "            pass\n",
    "    return temp_store\n",
    "\n"
   ]
  },
  {
   "cell_type": "code",
   "execution_count": 63,
   "metadata": {},
   "outputs": [
    {
     "name": "stdout",
     "output_type": "stream",
     "text": [
      "12341\n"
     ]
    },
    {
     "data": {
      "text/plain": [
       "4"
      ]
     },
     "execution_count": 63,
     "metadata": {},
     "output_type": "execute_result"
    }
   ],
   "source": [
    "largest_num_array()\n"
   ]
  },
  {
   "cell_type": "markdown",
   "metadata": {},
   "source": [
    "38.\tWrite a function that takes an array of integers and returns the average value of the elements in the array.\n"
   ]
  },
  {
   "cell_type": "code",
   "execution_count": 8,
   "metadata": {},
   "outputs": [],
   "source": [
    "def suming_array():\n",
    "    \n",
    "    checker = [int(x) for x in input()]\n",
    "    checker\n",
    "    count=0\n",
    "    #sum_array=[]\n",
    "    #average_array = []\n",
    "\n",
    "    for item in checker:\n",
    "        count = count + item\n",
    "        #print(count)\n",
    "    return count\n"
   ]
  },
  {
   "cell_type": "code",
   "execution_count": 9,
   "metadata": {},
   "outputs": [
    {
     "name": "stdout",
     "output_type": "stream",
     "text": [
      "12345\n"
     ]
    },
    {
     "data": {
      "text/plain": [
       "15"
      ]
     },
     "execution_count": 9,
     "metadata": {},
     "output_type": "execute_result"
    }
   ],
   "source": [
    "suming_array()"
   ]
  },
  {
   "cell_type": "markdown",
   "metadata": {},
   "source": [
    "39.\tWrite a function that takes an array of integers and returns the sum of the elements in the array that are multiples of 3.\n"
   ]
  },
  {
   "cell_type": "code",
   "execution_count": null,
   "metadata": {},
   "outputs": [],
   "source": []
  },
  {
   "cell_type": "code",
   "execution_count": null,
   "metadata": {},
   "outputs": [],
   "source": []
  },
  {
   "cell_type": "code",
   "execution_count": null,
   "metadata": {},
   "outputs": [],
   "source": []
  },
  {
   "cell_type": "code",
   "execution_count": null,
   "metadata": {},
   "outputs": [],
   "source": []
  },
  {
   "cell_type": "code",
   "execution_count": null,
   "metadata": {},
   "outputs": [],
   "source": []
  },
  {
   "cell_type": "code",
   "execution_count": null,
   "metadata": {},
   "outputs": [],
   "source": []
  },
  {
   "cell_type": "code",
   "execution_count": 43,
   "metadata": {},
   "outputs": [],
   "source": [
    "try: \n",
    "    def list_1():\n",
    "        x= []\n",
    "        for i in range (1,5):\n",
    "            x.append(i)\n",
    "        return x\n",
    "except Exception as e:\n",
    "    print(e)\n",
    "    \n",
    "    "
   ]
  },
  {
   "cell_type": "code",
   "execution_count": 44,
   "metadata": {},
   "outputs": [],
   "source": [
    "lst = list_1()"
   ]
  },
  {
   "cell_type": "code",
   "execution_count": 45,
   "metadata": {},
   "outputs": [
    {
     "data": {
      "text/plain": [
       "[1, 2, 3, 4]"
      ]
     },
     "execution_count": 45,
     "metadata": {},
     "output_type": "execute_result"
    }
   ],
   "source": [
    "lst"
   ]
  },
  {
   "cell_type": "code",
   "execution_count": 25,
   "metadata": {
    "scrolled": true
   },
   "outputs": [
    {
     "name": "stdout",
     "output_type": "stream",
     "text": [
      "values in I loop 0\n",
      "value in jloop 0\n",
      "value in jloop 1\n",
      "values in I loop 1\n",
      "value in jloop 0\n",
      "value in jloop 1\n",
      "values in I loop 2\n",
      "value in jloop 0\n",
      "value in jloop 1\n"
     ]
    }
   ],
   "source": [
    "for i in range(3):\n",
    "    print(\"values in I loop {}\".format(i))\n",
    "    for j in range(2):\n",
    "        print(\"value in jloop {}\".format(j))\n",
    "        \n",
    "        "
   ]
  },
  {
   "cell_type": "markdown",
   "metadata": {},
   "source": []
  },
  {
   "cell_type": "code",
   "execution_count": 92,
   "metadata": {},
   "outputs": [],
   "source": []
  },
  {
   "cell_type": "code",
   "execution_count": null,
   "metadata": {},
   "outputs": [],
   "source": []
  },
  {
   "cell_type": "code",
   "execution_count": null,
   "metadata": {},
   "outputs": [],
   "source": []
  },
  {
   "cell_type": "code",
   "execution_count": null,
   "metadata": {},
   "outputs": [],
   "source": []
  },
  {
   "cell_type": "code",
   "execution_count": null,
   "metadata": {},
   "outputs": [],
   "source": []
  },
  {
   "cell_type": "code",
   "execution_count": null,
   "metadata": {},
   "outputs": [],
   "source": []
  },
  {
   "cell_type": "code",
   "execution_count": null,
   "metadata": {},
   "outputs": [],
   "source": []
  },
  {
   "cell_type": "code",
   "execution_count": null,
   "metadata": {},
   "outputs": [],
   "source": []
  },
  {
   "cell_type": "code",
   "execution_count": null,
   "metadata": {},
   "outputs": [],
   "source": []
  },
  {
   "cell_type": "code",
   "execution_count": null,
   "metadata": {},
   "outputs": [],
   "source": []
  }
 ],
 "metadata": {
  "kernelspec": {
   "display_name": "Python 3",
   "language": "python",
   "name": "python3"
  },
  "language_info": {
   "codemirror_mode": {
    "name": "ipython",
    "version": 3
   },
   "file_extension": ".py",
   "mimetype": "text/x-python",
   "name": "python",
   "nbconvert_exporter": "python",
   "pygments_lexer": "ipython3",
   "version": "3.7.4"
  }
 },
 "nbformat": 4,
 "nbformat_minor": 2
}
